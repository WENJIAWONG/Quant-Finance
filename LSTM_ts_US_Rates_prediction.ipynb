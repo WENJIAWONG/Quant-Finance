{
 "cells": [
  {
   "cell_type": "markdown",
   "metadata": {
    "colab_type": "text",
    "id": "px6CignJqKFO"
   },
   "source": [
    "#Time Series prediction with LSTM\n",
    "\n",
    "In [Writing like Cervantes](https://medium.com/@gjlr2000/writing-like-cervantes-61a63c964d82) I showed how LSTM-NN (Long Short Term Memory Neural Networks) show what a fellow blogger says is an \"[unreasonable effectiveness(http://karpathy.github.io/2015/05/21/rnn-effectiveness/)\". If you see the example I developed, you will see how the neural network 'learned' to write in Spanish (letter by letter) in a little under 2 hours after reading the whole 'Don Quijote'.\n",
    "\n",
    "Not surprisingly, LSTM NN have been proposed to predict Time Series. \n",
    "\n",
    "**Spoiler alert:** Most of them do not work in Finance (so far I have only seen one that claims to work: [Universal Features of Price Formation in Financial Markets: Perspectives From Deep Learning - Sirignano and Cont](https://papers.ssrn.com/sol3/papers.cfm?abstract_id=3141294))). That could be because:\n",
    "\n",
    "1.   practitioners who have implemented a working version of a neural network would use the whole extent of the law to keep it secret ( [Goldman suing ex-programmer](https://www.vanityfair.com/news/2013/09/michael-lewis-goldman-sachs-programmer)) and avoid the 'alpha destruction effect' that happens when a strategy is published [Does Academic Research Destroy Stock Return Predictability?](https://www2.bc.edu/jeffrey-pontiff/Documents/Predictability%20JF%20with%20copy%20edits%20Final.pdf)\n",
    "\n",
    "2.  The timeseries cannot be predicted, because as as Sirignano and Cont write, \"*the data used for estimation is often limited to a recent time window, ... financial data can be **‘non-stationary’** and **prone to regime changes** which may render older data less relevant for prediction.*\" \n",
    "\n",
    "3. The timeseries can be predicted, but the practicioner/researcher does not have access to the full dataset/ computer power.\n",
    "\n",
    "Below (after some discussion of points 2 and 3) I will show in full detail an example of time series prediction of the 5 year US rate. \n"
   ]
  },
  {
   "cell_type": "code",
   "execution_count": 0,
   "metadata": {
    "colab": {},
    "colab_type": "code",
    "id": "-i4kcZKLjBeg"
   },
   "outputs": [],
   "source": [
    "# -*- coding: utf-8 -*-\n",
    "\n",
    "# In this section I add the initial libraries required for this tutorial\n",
    "# 'requests': allow HTTP-post API calls\n",
    "import requests\n",
    "# 'json':     to format as json calls to API\n",
    "import json \n",
    "# 'pandas':   to plot the timeseries\n",
    "import pandas as pd\n",
    "# 'datetime': to convert different date formats\n",
    "import datetime as dt\n",
    "import numpy as np\n",
    "import matplotlib.pyplot as plt\n",
    "%matplotlib inline\n",
    "import time"
   ]
  },
  {
   "cell_type": "markdown",
   "metadata": {
    "colab_type": "text",
    "id": "7NHrfLnKjPeS"
   },
   "source": [
    "More about non-stationarity and regime changes -- you can read the formal definition in Wikipedia [non-stationary](https://en.wikipedia.org/wiki/Stationary_process)], but le me give you a real life example.\n",
    "\n",
    "In September 6 of 2011 the [Swiss National Bank](https://en.wikipedia.org/wiki/Swiss_franc#2011%E2%80%932014:_Big_movements_and_capping):\n",
    "\n",
    "\n",
    "> *set a minimum exchange rate of 1.20 francs to the euro (capping franc's appreciation) saying \"the value of the franc is a threat to the economy\",[18] and that it was \"prepared to buy foreign currency in unlimited quantities\"*\n",
    "\n",
    "a policy that was abandoned on 15 January 2015.\n",
    "\n",
    "\n"
   ]
  },
  {
   "cell_type": "markdown",
   "metadata": {
    "colab_type": "text",
    "id": "v6ESbyx2twv8"
   },
   "source": [
    "The period when the Swiss Franc was capped versus the Euro correspond to the shaded region in the plot below. The big moves before and after correspond to **regimes changes**. The argument against neural networks being unable to identify them usually assumes that there is no additional variable that can be used to identify them, hence it can be weakened if we are able to **add** input variables which identifies the regimes (in this case, central bank intervention).\n",
    "\n",
    "However, it is difficult to think ahead of the variables needed for prediction (it is always easier in hindsight), and if there are multiple regimes the data will be subdivided over and over, reducing the possibility of successful training (mental exercise: think what woulk happen if we take the 'Don Quixote' example mentioned above and train the system with a mixed bag of small blogs in different languages instead of a huge book in one language).\n"
   ]
  },
  {
   "cell_type": "code",
   "execution_count": 0,
   "metadata": {
    "colab": {
     "base_uri": "https://localhost:8080/",
     "height": 302
    },
    "colab_type": "code",
    "id": "T40OFkNjJP84",
    "outputId": "29264b8a-5f0e-4b33-cb20-664efc928241"
   },
   "outputs": [
    {
     "name": "stdout",
     "output_type": "stream",
     "text": [
      "[u'Date', u'Value']\n"
     ]
    },
    {
     "data": {
      "text/plain": [
       "<matplotlib.collections.PolyCollection at 0x7fc4703e2ed0>"
      ]
     },
     "execution_count": 4,
     "metadata": {
      "tags": []
     },
     "output_type": "execute_result"
    },
    {
     "data": {
      "image/png": "[encoded data removed]",
      "text/plain": [
       "<matplotlib.figure.Figure at 0x7fc4703bf850>"
      ]
     },
     "metadata": {
      "tags": []
     },
     "output_type": "display_data"
    }
   ],
   "source": [
    "\n",
    "\n",
    "QUAND_TS = \"https://www.quandl.com/api/v3/datasets/ECB/EURCHF.json?api_key=o6YKGjyDcseE3LFKrSK3\"\n",
    "\n",
    "# Call Quandl to get all the data\n",
    "q = requests.get(url = QUAND_TS)\n",
    "q_json = q.json() \n",
    "q_data = q_json['dataset']['data']\n",
    "\n",
    "# Compute derived series from Quandl Data\n",
    "dates = []\n",
    "values = []\n",
    "q_len = len(q_data)\n",
    "column_len = len(q_data[0])\n",
    "column = column_len-1\n",
    "columns = q_json['dataset']['column_names']\n",
    "print (columns)\n",
    "Value = 'EURCHF'\n",
    "columns = ['Date', Value]\n",
    "\n",
    "# The following could be easily done using Quandl's\n",
    "# python API - but I keep it the 'hard way' to allow\n",
    "# compatibility with Google Colaboratory\n",
    "df_rates = pd.DataFrame.from_records(q_data, columns = columns)\n",
    "df_rates['Date'] = pd.to_datetime(df_rates['Date'])\n",
    "df_rates.set_index('Date', inplace=True)\n",
    "ax = df_rates[df_rates.index >= pd.Timestamp('2008-09-06')].plot(figsize=(8,4))\n",
    "ax.fill_betweenx(ax.get_ylim(), pd.Timestamp('2011-09-06'), pd.Timestamp('2015-01-15'), alpha=0.1, zorder = -1)\n"
   ]
  },
  {
   "cell_type": "markdown",
   "metadata": {
    "colab_type": "text",
    "id": "Gcu6cGvQjKbZ"
   },
   "source": [
    "Sirignano and Cont claim they can make it work by:\n",
    "* using huge amounts of data:  \"*Our data set is a high-frequency record of all orders, transactions and order cancellations for approximately 1000 stocks traded on the NASDAQ between January 1, 2014 and March 31, 2017*\" \"*In electronic markets such as the NASDAQ, new orders may arrive at high frequency —\n",
    "sometimes every microsecond — and order books of certain stocks can update millions of\n",
    "times per day. This leads to TeraBytes of data, which we put to use to build a data-driven\n",
    "model of the price formation process.*\"\n",
    "* massive computer power:  \"* Approximately 500 GPU\n",
    "nodes are used to train the stock-specific models.*\" \n",
    "* LSTM Neural Networks: \"*The resulting LSTM network involves up to hundreds of thousands of parameters. This is relatively small compared to networks used for instance in image or speech recognition, but\n",
    "it is huge compared to econometric models traditionally used in finance*\"\n",
    "\n",
    "I have a pet peeve for irreproducible research, and lacking access to terabytes of limit order data hundreds of GPU's I cannot comment on the the paper.\n",
    "\n",
    "But a very important factor that could explain the success of this approach, is the use of the whole public view of the Limit Order Book (LOB).\n",
    "\n",
    "Think about it: above I showed how regime changes worked in the case of the EURCHF; after the announcement, the 'floor' of 1.20 CHF to EUR was in effect an unlimited limit order. In fact, the limit order does not have to unlimited to have an effect on following prices; as long as the limit order is 'large':\n",
    "\n",
    "\n",
    "> *Large limit orders can be \"front-run\" by \"order matching\" or \"penny jumping\". For example, if a buy limit order for 100,000 shares for 1.00 is announced to the market, many traders may seek to buy for 1.01. If the market price increases after their purchases, they will get the full amount of the price increase. However, if the market price decreases, they will likely be able to sell to the limit order trader, for only a one cent loss. [[wiki](https://en.wikipedia.org/wiki/Front_running)]*\n",
    "\n",
    "Hence, by choosing the whole public Limit Order Book as input to the time series, Sirignano and Cont are using an additional set of features that can provide usefule extra information.\n",
    "\n",
    "**Note**: Before trying to use neural networks to deal with time series it is worthwile to ask whether we have 'enough' data **and** computer power (which is not the case of most lonely day traders and academics who publish on the web and scientific papers). \n",
    "\n",
    "\n",
    "## How could it work ?\n",
    "\n",
    "Still, I find value in negative results (the [dark matter of research](https://www.aje.com/en/arc/negative-results-dark-matter-research/) ), so for my sake I decided to try a simple Time Series example 'warts and all'.\n",
    "\n",
    "In a previous example of AI in TimeSeries I showed how an unsupervised learning technique ([clustering](https://medium.com/@gjlr2000/rates-clustering-611a3af9b294)) can be used to identify regime change. But if you click on the example, you will see that having a timeseries with about 2.5k (250 business days for 10 years) datapoints divided in regimes that range from months to years provides very little data for a big neural network like the 'Don Quijote' (which as more than 1 million parameters to train).\n",
    "\n",
    "There are quite  few sources of material to use LTSM for prediction, but I particularly liked one class in coursera: [Crude Oil price prediction](https://github.com/romeokienzler/developerWorks/blob/master/coursera/ai/week3/lstm_crude_oil_price_prediction.ipynb)\n",
    "\n",
    " \n",
    "Another useful resources are:\n",
    "\n",
    "* Anomaly Detection for Temporal\n",
    "Data using Long Short-Term\n",
    "Memory (LSTM) http://www.diva-portal.org/smash/get/diva2:1149130/FULLTEXT01.pdf\n",
    "* How to Prepare Sequence Prediction for Truncated Backpropagation Through Time in Keras https://machinelearningmastery.com/truncated-backpropagation-through-time-in-keras/\n",
    "\n",
    "The following code is a copy of the coursera course, but I will try to give some insights."
   ]
  },
  {
   "cell_type": "code",
   "execution_count": 0,
   "metadata": {
    "colab": {
     "base_uri": "https://localhost:8080/",
     "height": 302
    },
    "colab_type": "code",
    "id": "Pc6ev0xUiyYL",
    "outputId": "168f8b4b-41e3-493f-fc29-b2164275cd3a"
   },
   "outputs": [
    {
     "name": "stdout",
     "output_type": "stream",
     "text": [
      "[u'Date', u'1 MO', u'3 MO', u'6 MO', u'1 YR', u'2 YR', u'3 YR', u'5 YR', u'7 YR', u'10 YR', u'20 YR', u'30 YR']\n"
     ]
    },
    {
     "data": {
      "text/plain": [
       "<matplotlib.axes._subplots.AxesSubplot at 0x7fc4735f06d0>"
      ]
     },
     "execution_count": 3,
     "metadata": {
      "tags": []
     },
     "output_type": "execute_result"
    },
    {
     "data": {
      "image/png": "[encoded data removed]",
      "text/plain": [
       "<matplotlib.figure.Figure at 0x7fc4729be610>"
      ]
     },
     "metadata": {
      "tags": []
     },
     "output_type": "display_data"
    }
   ],
   "source": [
    "\n",
    "\n",
    "# Treasury rates: we can download them from Quandl\n",
    "QUAND_TS = \"https://www.quandl.com/api/v3/datasets/USTREASURY/YIELD.json?api_key=o6YKGjyDcseE3LFKrSK3\"\n",
    "\n",
    "\n",
    "# Call Quandl to get all the data\n",
    "q = requests.get(url = QUAND_TS)\n",
    "q_json = q.json() \n",
    "q_data = q_json['dataset']['data']\n",
    "\n",
    "# Compute derived series from Quandl Data\n",
    "dates = []\n",
    "values = []\n",
    "q_len = len(q_data)\n",
    "column_len = len(q_data[0])\n",
    "column = column_len-1\n",
    "columns = q_json['dataset']['column_names']\n",
    "print (columns)\n",
    "\n",
    "\n",
    "# The following could be easily done using Quandl's\n",
    "# python API - but I keep it the 'hard way' to allow\n",
    "# compatibility with Google Colaboratory\n",
    "df_rates = pd.DataFrame.from_records(q_data, columns = columns)\n",
    "df_rates['Date'] = pd.to_datetime(df_rates['Date'])\n",
    "df_rates.set_index('Date', inplace=True)\n",
    "df_rates.plot()"
   ]
  },
  {
   "cell_type": "markdown",
   "metadata": {
    "colab_type": "text",
    "id": "yq2OHKdDaUwv"
   },
   "source": [
    "The first thing I do is to use USD rates - just to try something different and check whether the results make sense (I do that because I am more familiar with rates, but also because the data is free and does not require me publishing user id's and passwords)\n",
    "\n",
    "Visually, I can see that values range between 0 and 10%. \n",
    "\n",
    "**Note**: (first wart): pre-defining the range with *all* introduces [look ahead bias](https://www.investopedia.com/terms/l/lookaheadbias.asp), even if for rates it can be claimed the near future will still range between this values. But so far I have seen this error multiple times.\n",
    "\n"
   ]
  },
  {
   "cell_type": "code",
   "execution_count": 0,
   "metadata": {
    "colab": {
     "base_uri": "https://localhost:8080/",
     "height": 221
    },
    "colab_type": "code",
    "id": "WNVeoaH39w_r",
    "outputId": "ab92cc52-6a7a-41e5-f0fd-b188e62bfe92"
   },
   "outputs": [
    {
     "name": "stdout",
     "output_type": "stream",
     "text": [
      "(7110, 2)\n"
     ]
    },
    {
     "data": {
      "text/html": [
       "<div>\n",
       "<style scoped>\n",
       "    .dataframe tbody tr th:only-of-type {\n",
       "        vertical-align: middle;\n",
       "    }\n",
       "\n",
       "    .dataframe tbody tr th {\n",
       "        vertical-align: top;\n",
       "    }\n",
       "\n",
       "    .dataframe thead th {\n",
       "        text-align: right;\n",
       "    }\n",
       "</style>\n",
       "<table border=\"1\" class=\"dataframe\">\n",
       "  <thead>\n",
       "    <tr style=\"text-align: right;\">\n",
       "      <th></th>\n",
       "      <th>Date</th>\n",
       "      <th>5 YR</th>\n",
       "    </tr>\n",
       "  </thead>\n",
       "  <tbody>\n",
       "    <tr>\n",
       "      <th>7109</th>\n",
       "      <td>1990-01-02</td>\n",
       "      <td>7.87</td>\n",
       "    </tr>\n",
       "    <tr>\n",
       "      <th>7108</th>\n",
       "      <td>1990-01-03</td>\n",
       "      <td>7.92</td>\n",
       "    </tr>\n",
       "    <tr>\n",
       "      <th>7107</th>\n",
       "      <td>1990-01-04</td>\n",
       "      <td>7.91</td>\n",
       "    </tr>\n",
       "    <tr>\n",
       "      <th>7106</th>\n",
       "      <td>1990-01-05</td>\n",
       "      <td>7.92</td>\n",
       "    </tr>\n",
       "    <tr>\n",
       "      <th>7105</th>\n",
       "      <td>1990-01-08</td>\n",
       "      <td>7.92</td>\n",
       "    </tr>\n",
       "  </tbody>\n",
       "</table>\n",
       "</div>"
      ],
      "text/plain": [
       "            Date  5 YR\n",
       "7109  1990-01-02  7.87\n",
       "7108  1990-01-03  7.92\n",
       "7107  1990-01-04  7.91\n",
       "7106  1990-01-05  7.92\n",
       "7105  1990-01-08  7.92"
      ]
     },
     "execution_count": 4,
     "metadata": {
      "tags": []
     },
     "output_type": "execute_result"
    }
   ],
   "source": [
    "Value = '5 YR'\n",
    "df_rates = pd.DataFrame.from_records(q_data, columns = columns)\n",
    "df_data_1 = ((df_rates[['Date',Value]]).sort_index(ascending = False))\n",
    "print(df_data_1.shape)\n",
    "df_data_1.head()\n"
   ]
  },
  {
   "cell_type": "markdown",
   "metadata": {
    "colab_type": "text",
    "id": "F7xoZmxecmLA"
   },
   "source": [
    "Below you can see the data is represented as an array of consecutive days.\n",
    "\n",
    "**Note**: (2nd wart) this techniques removes useful information that could be relevant - is it a weekend, end of quarter, month  ([weekend effect](https://www.investopedia.com/terms/w/weekendeffect.asp)) ? We could add it back as a 'feature'"
   ]
  },
  {
   "cell_type": "code",
   "execution_count": 0,
   "metadata": {
    "colab": {
     "base_uri": "https://localhost:8080/",
     "height": 294
    },
    "colab_type": "code",
    "id": "d_lt12wSfd_Y",
    "outputId": "f0cc3eaf-8ff1-4e79-b4b0-7819f524e1e0"
   },
   "outputs": [
    {
     "data": {
      "image/png": "[encoded data removed]",
      "text/plain": [
       "<matplotlib.figure.Figure at 0x7fc05287ce10>"
      ]
     },
     "metadata": {
      "tags": []
     },
     "output_type": "display_data"
    }
   ],
   "source": [
    "import matplotlib.pyplot as plt\n",
    "df_data_1_plot = df_data_1.iloc[:,1:2].values\n",
    "# Visualising the Data\n",
    "plt.plot(df_data_1_plot, color = 'red', label = Value)\n",
    "plt.title('Historical Data')\n",
    "plt.xlabel('Time (Days)')\n",
    "plt.ylabel('Yields')\n",
    "plt.legend()\n",
    "plt.show()"
   ]
  },
  {
   "cell_type": "code",
   "execution_count": 0,
   "metadata": {
    "colab": {
     "base_uri": "https://localhost:8080/",
     "height": 34
    },
    "colab_type": "code",
    "id": "NCapBy-XflWs",
    "outputId": "f4d2938d-ac62-49d2-8569-d6d1225e6a29"
   },
   "outputs": [
    {
     "name": "stderr",
     "output_type": "stream",
     "text": [
      "Using TensorFlow backend.\n"
     ]
    }
   ],
   "source": [
    "\n",
    "#import packages#import \n",
    "import numpy as np\n",
    "import pandas as pd\n",
    "from keras.preprocessing import sequence\n",
    "from keras.models import load_model"
   ]
  },
  {
   "cell_type": "markdown",
   "metadata": {
    "colab_type": "text",
    "id": "fvFMOMbBd90J"
   },
   "source": [
    "Here we start entering some 'hyperparameters':\n",
    "\n",
    "\n",
    "*   batch size and epochs tell the system how fast and how many times to train\n",
    "*   **training** timesteps tell the system how far back in time to go during training.\n",
    "\n",
    "**Note**: (3rd wart) The hyperparameters will impact the accuracy of the predictor - and if we only have a small set of data it might be possible that playing with different hyperparameters gives us an 'overfitted neural network' that will work very well **just** in the available set but awufully afterwards.\n",
    "\n",
    "**Note**: I have seen that the **training**  timesteps are confused with the amount of memory used (as if the system as an ARIMA model) - but it is not the case. LSTM will remember well back in the past. Read \n",
    "\n",
    "* How to Prepare Sequence Prediction for Truncated Backpropagation Through Time in Keras https://machinelearningmastery.com/truncated-backpropagation-through-time-in-keras/\n",
    "\n"
   ]
  },
  {
   "cell_type": "code",
   "execution_count": 0,
   "metadata": {
    "colab": {},
    "colab_type": "code",
    "id": "_Wdogq_gfpv-"
   },
   "outputs": [],
   "source": [
    "# defining the batch size and number of epochs\n",
    "batch_size = 64\n",
    "epochs = 120\n",
    "timesteps = 30"
   ]
  },
  {
   "cell_type": "code",
   "execution_count": 0,
   "metadata": {
    "colab": {
     "base_uri": "https://localhost:8080/",
     "height": 51
    },
    "colab_type": "code",
    "id": "bjxR93o4gRMI",
    "outputId": "7bc096ca-8b5e-408a-b2d6-0da25281606a"
   },
   "outputs": [
    {
     "name": "stdout",
     "output_type": "stream",
     "text": [
      "7110\n",
      "6399.0\n"
     ]
    }
   ],
   "source": [
    "length = len(df_data_1)\n",
    "print length\n",
    "length *= 1 - 0.1\n",
    "print length"
   ]
  },
  {
   "cell_type": "code",
   "execution_count": 0,
   "metadata": {
    "colab": {},
    "colab_type": "code",
    "id": "DXZ0WSd2gSmo"
   },
   "outputs": [],
   "source": [
    "def get_train_length(dataset, batch_size, test_percent):\n",
    "    # substract test_percent to be excluded from training, reserved for testset\n",
    "    length = len(dataset)\n",
    "    length *= 1 - test_percent\n",
    "    train_length_values = []\n",
    "    for x in range(int(length) - 100,int(length)): \n",
    "        modulo=x%batch_size\n",
    "        if (modulo == 0):\n",
    "            train_length_values.append(x)\n",
    "            print x\n",
    "    return (max(train_length_values))"
   ]
  },
  {
   "cell_type": "code",
   "execution_count": 0,
   "metadata": {
    "colab": {
     "base_uri": "https://localhost:8080/",
     "height": 51
    },
    "colab_type": "code",
    "id": "45fimt2zgoPX",
    "outputId": "0fbd9956-b84e-4352-e716-e38ff9851067"
   },
   "outputs": [
    {
     "name": "stdout",
     "output_type": "stream",
     "text": [
      "6336\n",
      "6336\n"
     ]
    }
   ],
   "source": [
    "length = get_train_length(df_data_1, batch_size, 0.1)\n",
    "print length"
   ]
  },
  {
   "cell_type": "code",
   "execution_count": 0,
   "metadata": {
    "colab": {
     "base_uri": "https://localhost:8080/",
     "height": 34
    },
    "colab_type": "code",
    "id": "rGmXmDmsgdTQ",
    "outputId": "5dbf655b-ae4a-43cd-8b24-e83a7bea1c16"
   },
   "outputs": [
    {
     "data": {
      "text/plain": [
       "(6396, 1)"
      ]
     },
     "execution_count": 11,
     "metadata": {
      "tags": []
     },
     "output_type": "execute_result"
    }
   ],
   "source": [
    "#Adding timesteps * 2\n",
    "upper_train = length + timesteps*2\n",
    "df_data_1_train = df_data_1[0:upper_train]\n",
    "training_set = df_data_1_train.iloc[:,1:2].values\n",
    "training_set.shape"
   ]
  },
  {
   "cell_type": "code",
   "execution_count": 0,
   "metadata": {
    "colab": {
     "base_uri": "https://localhost:8080/",
     "height": 34
    },
    "colab_type": "code",
    "id": "RVoENVzZgvbT",
    "outputId": "dd46b059-fe40-4334-aea4-8fd1ffea7e84"
   },
   "outputs": [
    {
     "data": {
      "text/plain": [
       "(6396, 1)"
      ]
     },
     "execution_count": 13,
     "metadata": {
      "tags": []
     },
     "output_type": "execute_result"
    }
   ],
   "source": [
    "# Feature Scaling\n",
    "from sklearn.preprocessing import MinMaxScaler\n",
    "sc = MinMaxScaler(feature_range = (0, 1))\n",
    "training_set_scaled = sc.fit_transform(np.float64(training_set))\n",
    "training_set_scaled.shape"
   ]
  },
  {
   "cell_type": "markdown",
   "metadata": {
    "colab_type": "text",
    "id": "FB3wyB3nfYKw"
   },
   "source": [
    "**Note**: (1st wart again) - the MinMaxScaler introduces look-ahead bias. The inputs of the neural network need to fall within the range 0 to 1, and just below we used the whole available data set to scale the input.\n",
    "\n",
    "How about if want to predict stock values (that can rise forever) ? Well, you need to somehow transform your data into something that falls between 0 and 1 - that is why Sirignano and Cont model the probability that the next move is up or down - a number between 0 and 1:\n",
    "\n",
    "\n",
    "> \"*The models therefore predict whether the next price move is up or down*\"\n",
    "\n"
   ]
  },
  {
   "cell_type": "code",
   "execution_count": 0,
   "metadata": {
    "colab": {
     "base_uri": "https://localhost:8080/",
     "height": 102
    },
    "colab_type": "code",
    "id": "HqWlNfk7g0rj",
    "outputId": "87d0d530-671e-444e-9127-b087ee211cb6"
   },
   "outputs": [
    {
     "name": "stdout",
     "output_type": "stream",
     "text": [
      "6366\n",
      "6336\n",
      "6336\n",
      "(6336, 30)\n",
      "(6336, 30)\n"
     ]
    }
   ],
   "source": [
    "X_train = []\n",
    "y_train = []\n",
    "\n",
    "# Creating a data structure with n timesteps\n",
    "\n",
    "print length + timesteps\n",
    "for i in range(timesteps, length + timesteps): \n",
    "    X_train.append(training_set_scaled[i-timesteps:i,0])\n",
    "    y_train.append(training_set_scaled[i:i+timesteps,0])\n",
    "\n",
    "print len(X_train)\n",
    "print len (y_train)\n",
    "print np.array(X_train).shape\n",
    "print np.array(y_train).shape"
   ]
  },
  {
   "cell_type": "code",
   "execution_count": 0,
   "metadata": {
    "colab": {
     "base_uri": "https://localhost:8080/",
     "height": 51
    },
    "colab_type": "code",
    "id": "zAl8N3uVBGnn",
    "outputId": "6541ba97-67e1-4aaa-e6b1-1f1f261086f0"
   },
   "outputs": [
    {
     "name": "stdout",
     "output_type": "stream",
     "text": [
      "(6336, 30, 1)\n",
      "(6336, 30, 1)\n"
     ]
    }
   ],
   "source": [
    "# Reshaping\n",
    "X_train, y_train = np.array(X_train), np.array(y_train)\n",
    "X_train = np.reshape(X_train, (X_train.shape[0], X_train.shape[1], 1))\n",
    "y_train = np.reshape(y_train, (y_train.shape[0], y_train.shape[1], 1))\n",
    "print X_train.shape\n",
    "print y_train.shape"
   ]
  },
  {
   "cell_type": "code",
   "execution_count": 0,
   "metadata": {
    "colab": {},
    "colab_type": "code",
    "id": "-NzJ-BuKg3nD"
   },
   "outputs": [],
   "source": [
    "# Building the LSTM\n",
    "# Importing the Keras libraries and packages\n",
    "\n",
    "from keras.layers import Dense\n",
    "from keras.layers import Input, LSTM\n",
    "from keras.models import Model\n",
    "import h5py"
   ]
  },
  {
   "cell_type": "markdown",
   "metadata": {
    "colab_type": "text",
    "id": "-Tmeep3Rg4rf"
   },
   "source": [
    "Now we setup the architecture of the LSTM neural network: 4 layers, 2 of them LSTM with 10 neurons each and a Dense final one.\n",
    "\n",
    "**Note** (3rd wart again) - we have more hyperparameters here - layers and neurons - how do we define them ? We can modify them until a network has a better accuracy, but we fall into overfiting - that is why need more and more data - we need different testing sets for each architecture to avoid overfitted models.\n",
    "\n",
    "**Note** Notice that here (as opposed to the 'Don Quijote' example) the LSTM add a stateful = 'True' command - that means the network will have Long memory."
   ]
  },
  {
   "cell_type": "code",
   "execution_count": 0,
   "metadata": {
    "colab": {
     "base_uri": "https://localhost:8080/",
     "height": 272
    },
    "colab_type": "code",
    "id": "2QPL2cGGg5kr",
    "outputId": "8fdb87a9-1731-43dd-ad8d-53263bc49fe9"
   },
   "outputs": [
    {
     "name": "stdout",
     "output_type": "stream",
     "text": [
      "_________________________________________________________________\n",
      "Layer (type)                 Output Shape              Param #   \n",
      "=================================================================\n",
      "input_1 (InputLayer)         (64, 30, 1)               0         \n",
      "_________________________________________________________________\n",
      "lstm_1 (LSTM)                (64, 30, 10)              480       \n",
      "_________________________________________________________________\n",
      "lstm_2 (LSTM)                (64, 30, 10)              840       \n",
      "_________________________________________________________________\n",
      "dense_1 (Dense)              (64, 30, 1)               11        \n",
      "=================================================================\n",
      "Total params: 1,331\n",
      "Trainable params: 1,331\n",
      "Non-trainable params: 0\n",
      "_________________________________________________________________\n"
     ]
    }
   ],
   "source": [
    "# Initialising the LSTM Model with MAE Loss-Function\n",
    "# Using Functional API\n",
    "\n",
    "inputs_1_mae = Input(batch_shape=(batch_size,timesteps,1))\n",
    "lstm_1_mae = LSTM(10, stateful=True, return_sequences=True)(inputs_1_mae)\n",
    "lstm_2_mae = LSTM(10, stateful=True, return_sequences=True)(lstm_1_mae)\n",
    "\n",
    "output_1_mae = Dense(units = 1)(lstm_2_mae)\n",
    "\n",
    "regressor_mae = Model(inputs=inputs_1_mae, outputs = output_1_mae)\n",
    "\n",
    "regressor_mae.compile(optimizer='adam', loss = 'mae')\n",
    "regressor_mae.summary()"
   ]
  },
  {
   "cell_type": "markdown",
   "metadata": {
    "colab_type": "text",
    "id": "l4eKZljPh8-m"
   },
   "source": [
    "It is useful to compare the number of parameters to train (1.3k) with the number of data points (6.6k). Compared to the Don Quijote example were we had roughly the same number of parameters and hyperparameters, is a 'good' sign.\n",
    "\n",
    "**Note** (2nd wart) - the input layer uses 'batches' of 60 points (to make training faster), 30 backward looking training steps and 1 feature. Above we mentioned that we had discarded information -- here we could add it again in the form of another feature, **but** that would increase the number of parameters to train while our data has **not** increased. \n",
    "\n",
    "Neural networks seems to have escaped the [curse of dimensionality](https://hackernoon.com/what-killed-the-curse-of-dimensionality-8dbfad265bbe) (the curse says that \"the number of training instances needed grows exponentially with the number of dimensions\" [link](http://www.visiondummy.com/2014/04/curse-dimensionality-affect-classification/)), but still it does not mean you can use a few examples to train a huge neural network.\n",
    "\n",
    "\n",
    "Below I will start the training of the network -please keep scrolling down to see the results."
   ]
  },
  {
   "cell_type": "code",
   "execution_count": 0,
   "metadata": {
    "colab": {},
    "colab_type": "code",
    "id": "3L7Lg4GJhOgt"
   },
   "outputs": [],
   "source": [
    "for i in range(epochs):\n",
    "#    print(\"Epoch: \" + str(i))\n",
    "    regressor_mae.fit(X_train, y_train, shuffle=False, epochs = 1, batch_size = batch_size, verbose = 0)\n",
    "    regressor_mae.reset_states()\n",
    "    "
   ]
  },
  {
   "cell_type": "code",
   "execution_count": 0,
   "metadata": {
    "colab": {},
    "colab_type": "code",
    "id": "gks-NtMXhYX9"
   },
   "outputs": [],
   "source": [
    "def get_test_length(dataset, batch_size):\n",
    "    \n",
    "    test_length_values = []\n",
    "    for x in range(len(dataset) - 200, len(dataset) - timesteps*2): \n",
    "        modulo=(x-upper_train)%batch_size\n",
    "        if (modulo == 0):\n",
    "            test_length_values.append(x)\n",
    "            print x\n",
    "    return (max(test_length_values))"
   ]
  },
  {
   "cell_type": "code",
   "execution_count": 0,
   "metadata": {
    "colab": {
     "base_uri": "https://localhost:8080/",
     "height": 85
    },
    "colab_type": "code",
    "id": "nIveALFUhbWA",
    "outputId": "e6ad904b-7dd2-4f04-efce-fd6faec2cdd0"
   },
   "outputs": [
    {
     "name": "stdout",
     "output_type": "stream",
     "text": [
      "6972\n",
      "7036\n",
      "7036\n",
      "640\n"
     ]
    }
   ],
   "source": [
    "test_length = get_test_length(df_data_1, batch_size)\n",
    "print(test_length)\n",
    "upper_test = test_length + timesteps*2\n",
    "testset_length = test_length - upper_train\n",
    "print testset_length"
   ]
  },
  {
   "cell_type": "code",
   "execution_count": 0,
   "metadata": {
    "colab": {
     "base_uri": "https://localhost:8080/",
     "height": 34
    },
    "colab_type": "code",
    "id": "6JY3RrDhhffo",
    "outputId": "bcce35f3-047a-4201-bae7-4da4bc9a37fd"
   },
   "outputs": [
    {
     "name": "stdout",
     "output_type": "stream",
     "text": [
      "6396 7096 7110\n"
     ]
    }
   ],
   "source": [
    "print upper_train, upper_test, len(df_data_1)"
   ]
  },
  {
   "cell_type": "code",
   "execution_count": 0,
   "metadata": {
    "colab": {},
    "colab_type": "code",
    "id": "jiAbNQT5hgHe"
   },
   "outputs": [],
   "source": [
    "# construct test set\n",
    "\n",
    "#subsetting\n",
    "df_data_1_test = df_data_1[upper_train:upper_test] \n",
    "test_set = df_data_1_test.iloc[:,1:2].values\n",
    "\n",
    "#scaling\n",
    "scaled_real_bcg_values_test = sc.fit_transform(np.float64(test_set))\n",
    "\n",
    "#creating input data\n",
    "X_test = []\n",
    "for i in range(timesteps, testset_length + timesteps):\n",
    "    X_test.append(scaled_real_bcg_values_test[i-timesteps:i, 0])\n",
    "X_test = np.array(X_test)\n",
    "\n",
    "\n",
    "#reshaping\n",
    "X_test = np.reshape(X_test, (X_test.shape[0], X_test.shape[1], 1))"
   ]
  },
  {
   "cell_type": "code",
   "execution_count": 0,
   "metadata": {
    "colab": {
     "base_uri": "https://localhost:8080/",
     "height": 68
    },
    "colab_type": "code",
    "id": "4Qy04dL_hjbP",
    "outputId": "5ba00797-1dad-461a-f00e-ef23af55957b"
   },
   "outputs": [
    {
     "name": "stdout",
     "output_type": "stream",
     "text": [
      "(640, 30, 1)\n",
      "(640, 30)\n",
      "(610, 1)\n"
     ]
    }
   ],
   "source": [
    "#prediction\n",
    "predicted_bcg_values_test_mae = regressor_mae.predict(X_test, batch_size=batch_size)\n",
    "regressor_mae.reset_states()\n",
    "\n",
    "print predicted_bcg_values_test_mae.shape\n",
    "\n",
    "#reshaping\n",
    "predicted_bcg_values_test_mae = np.reshape(predicted_bcg_values_test_mae, \n",
    "                                       (predicted_bcg_values_test_mae.shape[0], \n",
    "                                        predicted_bcg_values_test_mae.shape[1]))\n",
    "\n",
    "print predicted_bcg_values_test_mae.shape\n",
    "#inverse transform\n",
    "predicted_bcg_values_test_mae = sc.inverse_transform(predicted_bcg_values_test_mae)\n",
    "\n",
    "\n",
    "#creating y_test data\n",
    "y_test = []\n",
    "for j in range(0, testset_length - timesteps):\n",
    "    y_test = np.append(y_test, predicted_bcg_values_test_mae[j, timesteps-1])\n",
    "#    print predicted_bcg_values_test_mae[j, timesteps-1], test_set[j]\n",
    "\n",
    "# reshaping\n",
    "y_test = np.reshape(y_test, (y_test.shape[0], 1))\n",
    "\n",
    "print y_test.shape"
   ]
  },
  {
   "cell_type": "code",
   "execution_count": 0,
   "metadata": {
    "colab": {
     "base_uri": "https://localhost:8080/",
     "height": 627
    },
    "colab_type": "code",
    "id": "SzCXqdkOhmjX",
    "outputId": "0be9c763-4ec6-49cd-e7b4-a84deccc39a7"
   },
   "outputs": [
    {
     "data": {
      "image/png": "[encoded data removed]",
      "text/plain": [
       "<matplotlib.figure.Figure at 0x7fc05282e690>"
      ]
     },
     "metadata": {
      "tags": []
     },
     "output_type": "display_data"
    },
    {
     "data": {
      "text/plain": [
       "(array([  1.,   3.,  13.,  77., 161., 178., 111.,  28.,   5.,   3.]),\n",
       " array([-0.16316795, -0.12250455, -0.08184114, -0.04117773, -0.00051432,\n",
       "         0.04014909,  0.0808125 ,  0.1214759 ,  0.16213931,  0.20280272,\n",
       "         0.24346613]),\n",
       " <a list of 10 Patch objects>)"
      ]
     },
     "execution_count": 24,
     "metadata": {
      "tags": []
     },
     "output_type": "execute_result"
    },
    {
     "data": {
      "image/png": "[encoded data removed]",
      "text/plain": [
       "<matplotlib.figure.Figure at 0x7fc05002ced0>"
      ]
     },
     "metadata": {
      "tags": []
     },
     "output_type": "display_data"
    }
   ],
   "source": [
    "# Visualising the results\n",
    "plt.plot(test_set[timesteps:len(y_test)], color = 'red', label = 'Prices')\n",
    "plt.plot(y_test[0:len(y_test) - timesteps], color = 'blue', label = 'Predicted Prices')\n",
    "plt.title('Prediction - MAE')\n",
    "plt.xlabel('Time')\n",
    "plt.ylabel('Prices')\n",
    "plt.legend()\n",
    "plt.show()\n",
    "\n",
    "err_vector = ((test_set[timesteps:len(y_test)] - y_test[0:len(y_test) - timesteps]))\n",
    "#plt.plot(err_vector)\n",
    "plt.hist(err_vector)"
   ]
  },
  {
   "cell_type": "markdown",
   "metadata": {
    "colab_type": "text",
    "id": "U1NkKSJBicSR"
   },
   "source": [
    "## Results - finally\n",
    "\n",
    "Well, they are pretty poor. \n",
    "\n",
    "The graph above does not look too bad because the prediction at least falls 'close by' to the last seen level. However,  the prediction is done only for 1 step - the series is constructed by adding the correct value to the series at each point once it is known for the next day prediction, and even then the prediction has a downward bias which would have cost dearly any trader.\n",
    "\n",
    "**Note**: the test results have a big bias (5bps undershoot according to the histogram). This is the part where either someone would be tempted fix the bias by making some changes to the hyperparameters (add neurons ? add lags ? etc.) or would train different models in parallel until we find a model which performs better in this final step. That is a **mistake** -- this 'out of sample' is supposed to be the 'proof of the pudding' - you cannot reuse it to have another go at the series. That is why you need lots more data so that you can keep and untouched test set on hand for every model you want to try.\n",
    "\n",
    "## What did I learn ?\n",
    "\n",
    "My goal was to show how these LTSM *could* be used. \n",
    "\n",
    "Each one of the 'warts' can be addressed and improved when more data (and computer power) is available:\n",
    "\n",
    "* wart 1: look ahead bias - this requires having a good domain knowledge. \n",
    "* wart 2: removing useful information - this requires both the domain knowledge + more data\n",
    "* wart 3: hyperparameter selection - need even more data to be able to test each different model.\n",
    "\n",
    "In three words: data, data and data.\n",
    "\n",
    "**Note** - it is common to think that a 'lot of data' can be overcomed by adding more data points per example -  this timeseries has only one datapoint per day, but maybe we could add lots of other related datapoints the same day ? If we were to do that we would be adding input points to the neural network and would increase the trainable parameter, but we will still have the same number of examples. Put another way - think that you have 10 pictures to train a cat identifier - the system will not improve if you increase the resolution of your pictues to HD instead of low res -- you need *more* pictures.\n",
    "\n",
    "\n",
    "\n"
   ]
  },
  {
   "cell_type": "code",
   "execution_count": 0,
   "metadata": {
    "colab": {
     "base_uri": "https://localhost:8080/",
     "height": 34
    },
    "colab_type": "code",
    "id": "H-B58U9khpFJ",
    "outputId": "2d170c27-c5d3-47aa-83f0-20a04b0dffe2"
   },
   "outputs": [
    {
     "name": "stdout",
     "output_type": "stream",
     "text": [
      "0.0701804462487\n"
     ]
    }
   ],
   "source": [
    "import math\n",
    "from sklearn.metrics import mean_squared_error\n",
    "rmse = math.sqrt(mean_squared_error(test_set[timesteps:len(y_test)], y_test[0:len(y_test) - timesteps]))\n",
    "print(rmse)"
   ]
  },
  {
   "cell_type": "code",
   "execution_count": 0,
   "metadata": {
    "colab": {
     "base_uri": "https://localhost:8080/",
     "height": 34
    },
    "colab_type": "code",
    "id": "cV0ALfDrhrFh",
    "outputId": "e768e0b3-060c-48e3-ff14-52c1402044e6"
   },
   "outputs": [
    {
     "name": "stdout",
     "output_type": "stream",
     "text": [
      "0.05744177693334118\n"
     ]
    }
   ],
   "source": [
    "from sklearn.metrics import mean_absolute_error\n",
    "mae = mean_absolute_error(test_set[timesteps:len(y_test)], y_test[0:len(y_test) - timesteps])\n",
    "print(mae)"
   ]
  },
  {
   "cell_type": "code",
   "execution_count": 0,
   "metadata": {
    "colab": {},
    "colab_type": "code",
    "id": "kWLQxR9YhtaW"
   },
   "outputs": [],
   "source": [
    "import h5py\n",
    "regressor_mae.save(filepath=\"rates5yr_with_mae_30_ts.h5\")"
   ]
  },
  {
   "cell_type": "code",
   "execution_count": 0,
   "metadata": {
    "colab": {
     "base_uri": "https://localhost:8080/",
     "height": 272
    },
    "colab_type": "code",
    "id": "18_jhB40hygp",
    "outputId": "4c2ed97e-8aca-4d0a-9ebe-38b012a18a0e"
   },
   "outputs": [
    {
     "name": "stdout",
     "output_type": "stream",
     "text": [
      "_________________________________________________________________\n",
      "Layer (type)                 Output Shape              Param #   \n",
      "=================================================================\n",
      "input_2 (InputLayer)         (64, 30, 1)               0         \n",
      "_________________________________________________________________\n",
      "lstm_3 (LSTM)                (64, 30, 10)              480       \n",
      "_________________________________________________________________\n",
      "lstm_4 (LSTM)                (64, 30, 10)              840       \n",
      "_________________________________________________________________\n",
      "dense_2 (Dense)              (64, 30, 1)               11        \n",
      "=================================================================\n",
      "Total params: 1,331\n",
      "Trainable params: 1,331\n",
      "Non-trainable params: 0\n",
      "_________________________________________________________________\n"
     ]
    }
   ],
   "source": [
    "# Initialising the LSTM Model with MSE Loss Function\n",
    "\n",
    "inputs_1_mse = Input(batch_shape=(batch_size,timesteps,1))\n",
    "lstm_1_mse = LSTM(10, stateful=True, return_sequences=True)(inputs_1_mse)\n",
    "lstm_2_mse = LSTM(10, stateful=True, return_sequences=True)(lstm_1_mse)\n",
    "\n",
    "output_1_mse = Dense(units = 1)(lstm_2_mse)\n",
    "\n",
    "regressor_mse = Model(inputs=inputs_1_mse, outputs = output_1_mse)\n",
    "\n",
    "regressor_mse.compile(optimizer='adam', loss = 'mse')\n",
    "regressor_mse.summary()"
   ]
  },
  {
   "cell_type": "code",
   "execution_count": 0,
   "metadata": {
    "colab": {},
    "colab_type": "code",
    "id": "WT3056yah2dg"
   },
   "outputs": [],
   "source": [
    "epochs = 120\n",
    "for i in range(epochs):\n",
    "#    print(\"Epoch: \" + str(i))\n",
    "    regressor_mse.fit(X_train, y_train, shuffle=False, epochs = 1, batch_size = batch_size, verbose = 0)\n",
    "    regressor_mse.reset_states()"
   ]
  },
  {
   "cell_type": "code",
   "execution_count": 0,
   "metadata": {
    "colab": {},
    "colab_type": "code",
    "id": "nXYnCiNQIG83"
   },
   "outputs": [],
   "source": [
    "predicted_bcg_values_test_mse = regressor_mse.predict(X_test, batch_size=batch_size)\n",
    "regressor_mse.reset_states()\n",
    "\n",
    "predicted_bcg_values_test_mse = np.reshape(predicted_bcg_values_test_mse, \n",
    "                                       (predicted_bcg_values_test_mse.shape[0], \n",
    "                                        predicted_bcg_values_test_mse.shape[1]))\n",
    "predicted_bcg_values_test_mse = sc.inverse_transform(predicted_bcg_values_test_mse)\n",
    "\n",
    "pred_mse = []\n",
    "\n",
    "for j in range(0, testset_length - timesteps):\n",
    "    pred_mse = np.append(pred_mse, predicted_bcg_values_test_mse[j, timesteps-1])\n",
    "\n",
    "pred_mse = np.reshape(pred_mse, (pred_mse.shape[0], 1))"
   ]
  },
  {
   "cell_type": "code",
   "execution_count": 0,
   "metadata": {
    "colab": {
     "base_uri": "https://localhost:8080/",
     "height": 627
    },
    "colab_type": "code",
    "id": "O9YNiF82IKlE",
    "outputId": "63ec0b4e-aed6-48fd-c2f0-2c3ef0c760c0"
   },
   "outputs": [
    {
     "data": {
      "image/png": "[encoded data removed]",
      "text/plain": [
       "<matplotlib.figure.Figure at 0x7fc043f36d50>"
      ]
     },
     "metadata": {
      "tags": []
     },
     "output_type": "display_data"
    },
    {
     "data": {
      "text/plain": [
       "(array([  1.,   2.,   8.,  49., 128., 171., 160.,  51.,   7.,   3.]),\n",
       " array([-0.17178941, -0.12745171, -0.08311401, -0.03877631,  0.0055614 ,\n",
       "         0.0498991 ,  0.0942368 ,  0.1385745 ,  0.1829122 ,  0.2272499 ,\n",
       "         0.2715876 ]),\n",
       " <a list of 10 Patch objects>)"
      ]
     },
     "execution_count": 35,
     "metadata": {
      "tags": []
     },
     "output_type": "execute_result"
    },
    {
     "data": {
      "image/png": "[encoded data removed]",
      "text/plain": [
       "<matplotlib.figure.Figure at 0x7fc043fe47d0>"
      ]
     },
     "metadata": {
      "tags": []
     },
     "output_type": "display_data"
    }
   ],
   "source": [
    "# Visualising the results\n",
    "plt.plot(test_set[timesteps:len(pred_mse)], color = 'red', label = 'Prices')\n",
    "plt.plot(pred_mse[0:len(pred_mse) - timesteps], color = 'green', label = 'Predicted Prices with MSE')\n",
    "plt.plot(y_test[0:len(y_test) - timesteps], color = 'blue', label = 'Predicted Prices')\n",
    "plt.title('Prediction - MSE')\n",
    "plt.xlabel('Time')\n",
    "plt.ylabel('Prices')\n",
    "plt.legend()\n",
    "plt.show()\n",
    "\n",
    "err_vector = ((test_set[timesteps:len(pred_mse)] - pred_mse[0:len(pred_mse) - timesteps]))\n",
    "#plt.plot(err_vector)\n",
    "plt.hist(err_vector)"
   ]
  },
  {
   "cell_type": "code",
   "execution_count": 0,
   "metadata": {
    "colab": {
     "base_uri": "https://localhost:8080/",
     "height": 51
    },
    "colab_type": "code",
    "id": "ADwHK3w4S6Lj",
    "outputId": "6a0846d7-6148-4f5b-e8e9-01974b35ccc4"
   },
   "outputs": [
    {
     "name": "stdout",
     "output_type": "stream",
     "text": [
      "(640, 30)\n",
      "(640, 30, 1)\n"
     ]
    }
   ],
   "source": [
    "print (predicted_bcg_values_test_mse.shape)\n",
    "print (X_test.shape)"
   ]
  },
  {
   "cell_type": "code",
   "execution_count": 0,
   "metadata": {
    "colab": {},
    "colab_type": "code",
    "id": "-puzXYxAIPO0"
   },
   "outputs": [],
   "source": [
    "regressor_mse.save(filepath=\"rates5yr_with_mse_30_ts.h5\")"
   ]
  }
 ],
 "metadata": {
  "colab": {
   "collapsed_sections": [],
   "name": "LSTM ts US Rates prediction",
   "provenance": []
  },
  "kernelspec": {
   "display_name": "Python 3",
   "language": "python",
   "name": "python3"
  },
  "language_info": {
   "codemirror_mode": {
    "name": "ipython",
    "version": 3
   },
   "file_extension": ".py",
   "mimetype": "text/x-python",
   "name": "python",
   "nbconvert_exporter": "python",
   "pygments_lexer": "ipython3",
   "version": "3.7.7"
  }
 },
 "nbformat": 4,
 "nbformat_minor": 1
}
